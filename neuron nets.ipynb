{
 "cells": [
  {
   "cell_type": "code",
   "execution_count": 1,
   "metadata": {
    "collapsed": false
   },
   "outputs": [
    {
     "name": "stdout",
     "output_type": "stream",
     "text": [
      "Populating the interactive namespace from numpy and matplotlib\n"
     ]
    }
   ],
   "source": [
    "%pylab inline"
   ]
  },
  {
   "cell_type": "code",
   "execution_count": 3,
   "metadata": {
    "collapsed": true
   },
   "outputs": [],
   "source": [
    "import random"
   ]
  },
  {
   "cell_type": "code",
   "execution_count": 2,
   "metadata": {
    "collapsed": true
   },
   "outputs": [],
   "source": [
    "def multiply(a, b):\n",
    "    return a * b"
   ]
  },
  {
   "cell_type": "code",
   "execution_count": 6,
   "metadata": {
    "collapsed": true
   },
   "outputs": [],
   "source": [
    "def random_max(fn, a, b, niter=100):\n",
    "    tweak_amount = 0.01\n",
    "    best_out = None\n",
    "    best_a = a\n",
    "    best_b = b\n",
    "    for i in xrange(niter):\n",
    "        na = a + tweak_amount + (random.random() * 2 - 1)\n",
    "        nb = b + tweak_amount + (random.random() * 2 - 1)\n",
    "        out = fn(na, nb)\n",
    "        if best_out is None or out > best_out:\n",
    "            best_out = out\n",
    "            best_a = na\n",
    "            best_b = nb\n",
    "    return best_out, best_a, best_b"
   ]
  },
  {
   "cell_type": "code",
   "execution_count": 10,
   "metadata": {
    "collapsed": false
   },
   "outputs": [
    {
     "name": "stdout",
     "output_type": "stream",
     "text": [
      "(-2.2550733065079567, -1.0331240977593164, 2.1827709869500245)\n"
     ]
    }
   ],
   "source": [
    "print random_max(multiply, -2, 3)"
   ]
  },
  {
   "cell_type": "code",
   "execution_count": 19,
   "metadata": {
    "collapsed": true
   },
   "outputs": [],
   "source": [
    "def agradient_max(fn, a, b, niter=100):\n",
    "    tweak_amount = 0.01\n",
    "    best_out = None\n",
    "    best_a = a\n",
    "    best_b = b\n",
    "    for i in xrange(niter):\n",
    "        ga = b\n",
    "        gb = a\n",
    "        a += tweak_amount * ga\n",
    "        b += tweak_amount * gb\n",
    "        out = fn(a, b)\n",
    "        if best_out is None or out > best_out:\n",
    "            best_out = out\n",
    "            best_a = a\n",
    "            best_b = b\n",
    "    return best_out, best_a, best_b      "
   ]
  },
  {
   "cell_type": "code",
   "execution_count": 20,
   "metadata": {
    "collapsed": false
   },
   "outputs": [
    {
     "name": "stdout",
     "output_type": "stream",
     "text": [
      "(inf, 1.3414778336236026e+154, 1.3414778336236026e+154)\n"
     ]
    }
   ],
   "source": [
    "print agradient_max(multiply, -2, 3)"
   ]
  },
  {
   "cell_type": "code",
   "execution_count": null,
   "metadata": {
    "collapsed": true
   },
   "outputs": [],
   "source": []
  }
 ],
 "metadata": {
  "kernelspec": {
   "display_name": "Python 2",
   "language": "python",
   "name": "python2"
  },
  "language_info": {
   "codemirror_mode": {
    "name": "ipython",
    "version": 2
   },
   "file_extension": ".py",
   "mimetype": "text/x-python",
   "name": "python",
   "nbconvert_exporter": "python",
   "pygments_lexer": "ipython2",
   "version": "2.7.9"
  }
 },
 "nbformat": 4,
 "nbformat_minor": 0
}

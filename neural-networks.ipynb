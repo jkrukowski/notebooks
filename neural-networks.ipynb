{
 "cells": [
  {
   "cell_type": "markdown",
   "metadata": {},
   "source": [
    "Source: http://karpathy.github.io/neuralnets/"
   ]
  },
  {
   "cell_type": "code",
   "execution_count": 1,
   "metadata": {
    "collapsed": false
   },
   "outputs": [
    {
     "name": "stdout",
     "output_type": "stream",
     "text": [
      "Populating the interactive namespace from numpy and matplotlib\n"
     ]
    }
   ],
   "source": [
    "%pylab inline"
   ]
  },
  {
   "cell_type": "code",
   "execution_count": 3,
   "metadata": {
    "collapsed": true
   },
   "outputs": [],
   "source": [
    "import random"
   ]
  },
  {
   "cell_type": "code",
   "execution_count": 37,
   "metadata": {
    "collapsed": true
   },
   "outputs": [],
   "source": [
    "def multiply(a, b):\n",
    "    return a * b\n",
    "\n",
    "def add(a, b):\n",
    "    return a + b\n",
    "\n",
    "def circut(a, b, c):\n",
    "    d = add(a, b)\n",
    "    return multiply(d, c)"
   ]
  },
  {
   "cell_type": "code",
   "execution_count": 27,
   "metadata": {
    "collapsed": true
   },
   "outputs": [],
   "source": [
    "def random_max(fn, a, b, niter=100):\n",
    "    tweak_amount = 0.01\n",
    "    best_out = None\n",
    "    best_a = a\n",
    "    best_b = b\n",
    "    values = []\n",
    "    for i in xrange(niter):\n",
    "        na = a + tweak_amount + (random.random() * 2 - 1)\n",
    "        nb = b + tweak_amount + (random.random() * 2 - 1)\n",
    "        out = fn(na, nb)\n",
    "        values.append(out)\n",
    "        if best_out is None or out > best_out:\n",
    "            best_out = out\n",
    "            best_a = na\n",
    "            best_b = nb\n",
    "    return values, best_out, best_a, best_b"
   ]
  },
  {
   "cell_type": "code",
   "execution_count": 31,
   "metadata": {
    "collapsed": false
   },
   "outputs": [
    {
     "data": {
      "text/plain": [
       "[<matplotlib.lines.Line2D at 0x1062192d0>]"
      ]
     },
     "execution_count": 31,
     "metadata": {},
     "output_type": "execute_result"
    },
    {
     "data": {
      "image/png": "[encoded data removed]",
      "text/plain": [
       "<matplotlib.figure.Figure at 0x10613a710>"
      ]
     },
     "metadata": {},
     "output_type": "display_data"
    }
   ],
   "source": [
    "values, best, a, b = random_max(multiply, -2, 3)\n",
    "plot(values)"
   ]
  },
  {
   "cell_type": "code",
   "execution_count": 32,
   "metadata": {
    "collapsed": true
   },
   "outputs": [],
   "source": [
    "def agradient_max(fn, a, b, niter=100):\n",
    "    tweak_amount = 0.01\n",
    "    best_out = None\n",
    "    best_a = a\n",
    "    best_b = b\n",
    "    values = []\n",
    "    for i in xrange(niter):\n",
    "        ga = b\n",
    "        gb = a\n",
    "        a += tweak_amount * ga\n",
    "        b += tweak_amount * gb\n",
    "        out = fn(a, b)\n",
    "        values.append(out)\n",
    "        if best_out is None or out > best_out:\n",
    "            best_out = out\n",
    "            best_a = a\n",
    "            best_b = b\n",
    "    return values, best_out, best_a, best_b      "
   ]
  },
  {
   "cell_type": "code",
   "execution_count": 34,
   "metadata": {
    "collapsed": false
   },
   "outputs": [
    {
     "data": {
      "text/plain": [
       "[<matplotlib.lines.Line2D at 0x106352e50>]"
      ]
     },
     "execution_count": 34,
     "metadata": {},
     "output_type": "execute_result"
    },
    {
     "data": {
      "image/png": "[encoded data removed]",
      "text/plain": [
       "<matplotlib.figure.Figure at 0x10616e990>"
      ]
     },
     "metadata": {},
     "output_type": "display_data"
    }
   ],
   "source": [
    "values, best, a, b = agradient_max(multiply, -2, 3)\n",
    "plot(values)"
   ]
  },
  {
   "cell_type": "code",
   "execution_count": 39,
   "metadata": {
    "collapsed": false
   },
   "outputs": [
    {
     "name": "stdout",
     "output_type": "stream",
     "text": [
      "-12\n"
     ]
    }
   ],
   "source": [
    "f = circut(-2, 5, -4)\n",
    "print f"
   ]
  },
  {
   "cell_type": "code",
   "execution_count": null,
   "metadata": {
    "collapsed": true
   },
   "outputs": [],
   "source": []
  }
 ],
 "metadata": {
  "kernelspec": {
   "display_name": "Python 2",
   "language": "python",
   "name": "python2"
  },
  "language_info": {
   "codemirror_mode": {
    "name": "ipython",
    "version": 2
   },
   "file_extension": ".py",
   "mimetype": "text/x-python",
   "name": "python",
   "nbconvert_exporter": "python",
   "pygments_lexer": "ipython2",
   "version": "2.7.9"
  }
 },
 "nbformat": 4,
 "nbformat_minor": 0
}
